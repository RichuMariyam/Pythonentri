{
 "cells": [
  {
   "cell_type": "code",
   "execution_count": 6,
   "id": "9c109125-62af-4cc9-a45c-4876a1066b39",
   "metadata": {},
   "outputs": [
    {
     "name": "stdout",
     "output_type": "stream",
     "text": [
      "15\n",
      "8\n",
      "30\n"
     ]
    }
   ],
   "source": [
    "\n",
    "def custom_function(arg1, arg2=10, arg3=None):\n",
    "    if arg3 is None:\n",
    "        print(arg1 + arg2)\n",
    "    else:\n",
    "        print(arg1 * arg2 * arg3)\n",
    "\n",
    "custom_function(5)        \n",
    "custom_function(5, 3)    \n",
    "custom_function(5, 3, 2) \n"
   ]
  },
  {
   "cell_type": "code",
   "execution_count": null,
   "id": "8841ad32-d562-4cb5-84c9-6b3321474c20",
   "metadata": {},
   "outputs": [],
   "source": [
    "#excercise 2:\n",
    "def filter_long_strings(strings):\n",
    "    return [s for s in strings if len(s) >= 5]\n",
    "\n",
    "# Example usage:\n",
    "words = [\"apple\", \"cat\", \"banana\", \"dog\", \"elephant\"]\n",
    "print(filter_long_strings(words)) \n"
   ]
  },
  {
   "cell_type": "code",
   "execution_count": 8,
   "id": "f9fe7038-2abc-4b23-a2de-67db3197992d",
   "metadata": {},
   "outputs": [
    {
     "name": "stdout",
     "output_type": "stream",
     "text": [
      "Result of expression: 17\n"
     ]
    }
   ],
   "source": [
    "#excercise 3:\n",
    "expression = \"3 * 5 + 2\"\n",
    "result = eval(expression)  \n",
    "print(\"Result of expression:\", result) \n"
   ]
  },
  {
   "cell_type": "code",
   "execution_count": 10,
   "id": "7219c280-c0d4-425e-ae50-bf7bfa7d94c4",
   "metadata": {},
   "outputs": [
    {
     "name": "stdout",
     "output_type": "stream",
     "text": [
      "Prime numbers: [2, 3, 5, 11, 13, 17]\n"
     ]
    }
   ],
   "source": [
    "#excercise 4:\n",
    "def is_prime(n):\n",
    "    if n < 2:\n",
    "        return False\n",
    "    for i in range(2, int(n**0.5) + 1):\n",
    "        if n % i == 0:\n",
    "            return False\n",
    "    return True\n",
    "\n",
    "numbers = [2, 3, 4, 5, 10, 11, 13, 17, 20]\n",
    "prime_numbers = list(filter(is_prime, numbers))\n",
    "print(\"Prime numbers:\", prime_numbers)  \n"
   ]
  },
  {
   "cell_type": "code",
   "execution_count": 12,
   "id": "9815b664-3b6e-401d-b89b-5be73fc753c5",
   "metadata": {},
   "outputs": [
    {
     "name": "stdout",
     "output_type": "stream",
     "text": [
      "Uppercase words: ['HELLO', 'WORLD', 'PYTHON', 'CODE']\n"
     ]
    }
   ],
   "source": [
    "#excercise 4:\n",
    "def to_upper(strings):\n",
    "    return list(map(str.upper, strings))\n",
    "\n",
    "words = [\"hello\", \"world\", \"python\", \"code\"]\n",
    "uppercase_words = to_upper(words)\n",
    "print(\"Uppercase words:\", uppercase_words) \n"
   ]
  },
  {
   "cell_type": "code",
   "execution_count": null,
   "id": "752d43f9-7d27-4365-8fc6-034bbc8487d5",
   "metadata": {},
   "outputs": [],
   "source": []
  }
 ],
 "metadata": {
  "kernelspec": {
   "display_name": "Python [conda env:base] *",
   "language": "python",
   "name": "conda-base-py"
  },
  "language_info": {
   "codemirror_mode": {
    "name": "ipython",
    "version": 3
   },
   "file_extension": ".py",
   "mimetype": "text/x-python",
   "name": "python",
   "nbconvert_exporter": "python",
   "pygments_lexer": "ipython3",
   "version": "3.12.7"
  }
 },
 "nbformat": 4,
 "nbformat_minor": 5
}
