{
 "cells": [
  {
   "cell_type": "code",
   "execution_count": 3,
   "id": "da7a9812-ca8e-4857-91a2-1279d82de43b",
   "metadata": {},
   "outputs": [
    {
     "name": "stdout",
     "output_type": "stream",
     "text": [
      "Original list: [3, 8, 12, 5, 9]\n"
     ]
    }
   ],
   "source": [
    "# List Exercise\n",
    "# Q1: Create a list of 5 random numbers and print the list\n",
    "numbers = [3, 8, 12, 5, 9]\n",
    "print(\"Original list:\", numbers)\n"
   ]
  },
  {
   "cell_type": "code",
   "execution_count": 6,
   "id": "d514385b-2d8b-4bd1-b77a-82cf297b5546",
   "metadata": {},
   "outputs": [
    {
     "name": "stdout",
     "output_type": "stream",
     "text": [
      "Updated list: [3, 8, 12, 5, 9, 15, 20, 25]\n"
     ]
    }
   ],
   "source": [
    "# Q2: Insert 3 new values to the list and print the updated list\n",
    "numbers.extend([15, 20, 25])\n",
    "print(\"Updated list:\", numbers)"
   ]
  },
  {
   "cell_type": "code",
   "execution_count": 8,
   "id": "12742339-b5c0-4539-b809-0a0d3c069f0b",
   "metadata": {},
   "outputs": [
    {
     "name": "stdout",
     "output_type": "stream",
     "text": [
      "Elements in the list:\n",
      "3\n",
      "8\n",
      "12\n",
      "5\n",
      "9\n",
      "15\n",
      "20\n",
      "25\n"
     ]
    }
   ],
   "source": [
    "# Q3: Use a for loop to print each element in the list\n",
    "print(\"Elements in the list:\")\n",
    "for num in numbers:\n",
    "    print(num)"
   ]
  },
  {
   "cell_type": "code",
   "execution_count": 10,
   "id": "53004c0d-44d5-4b20-8dac-5ae1b7b79174",
   "metadata": {},
   "outputs": [
    {
     "name": "stdout",
     "output_type": "stream",
     "text": [
      "Dictionary: {'name': 'John', 'age': 25, 'address': 'New York'}\n"
     ]
    }
   ],
   "source": [
    "# Dictionary Exercise\n",
    "# Q1: Create a dictionary with keys 'name', 'age', and 'address'\n",
    "person = {\"name\": \"John\", \"age\": 25, \"address\": \"New York\"}\n",
    "print(\"Dictionary:\", person)\n"
   ]
  },
  {
   "cell_type": "code",
   "execution_count": 12,
   "id": "0d51a9c6-d1cb-48b0-acab-c548770df9bc",
   "metadata": {},
   "outputs": [
    {
     "name": "stdout",
     "output_type": "stream",
     "text": [
      "Updated Dictionary: {'name': 'John', 'age': 25, 'address': 'New York', 'phone': '1234567890'}\n"
     ]
    }
   ],
   "source": [
    "# Q2: Add a new key-value pair to the dictionary\n",
    "person[\"phone\"] = \"1234567890\"\n",
    "print(\"Updated Dictionary:\", person)"
   ]
  },
  {
   "cell_type": "code",
   "execution_count": 14,
   "id": "931518c1-6fdc-48e6-81ed-e2b5b953a598",
   "metadata": {},
   "outputs": [
    {
     "name": "stdout",
     "output_type": "stream",
     "text": [
      "Original set: {1, 2, 3, 4, 5}\n"
     ]
    }
   ],
   "source": [
    "# Set Exercise\n",
    "# Q1: Create a set with values 1, 2, 3, 4, and 5\n",
    "num_set = {1, 2, 3, 4, 5}\n",
    "print(\"Original set:\", num_set)"
   ]
  },
  {
   "cell_type": "code",
   "execution_count": 16,
   "id": "eaf14296-36d5-425e-ae18-6ff05d65be62",
   "metadata": {},
   "outputs": [
    {
     "name": "stdout",
     "output_type": "stream",
     "text": [
      "Updated set: {1, 2, 3, 4, 5, 6}\n"
     ]
    }
   ],
   "source": [
    "# Q2: Add the value 6 to the set\n",
    "num_set.add(6)\n",
    "print(\"Updated set:\", num_set)"
   ]
  },
  {
   "cell_type": "code",
   "execution_count": 18,
   "id": "dd83d89a-8bd0-4fc2-9603-1270c8956a94",
   "metadata": {},
   "outputs": [
    {
     "name": "stdout",
     "output_type": "stream",
     "text": [
      "Set after removing 3: {1, 2, 4, 5, 6}\n"
     ]
    }
   ],
   "source": [
    "# Q3: Remove the value 3 from the set\n",
    "num_set.discard(3)\n",
    "print(\"Set after removing 3:\", num_set)"
   ]
  },
  {
   "cell_type": "code",
   "execution_count": 20,
   "id": "032bf91d-ca39-4eb1-91ca-bda519115e42",
   "metadata": {},
   "outputs": [
    {
     "name": "stdout",
     "output_type": "stream",
     "text": [
      "Tuple: (1, 2, 3, 4)\n"
     ]
    }
   ],
   "source": [
    "# Tuple Exercise\n",
    "# Q1: Create a tuple with values 1, 2, 3, and 4\n",
    "tuple_values = (1, 2, 3, 4)\n",
    "print(\"Tuple:\", tuple_values)"
   ]
  },
  {
   "cell_type": "code",
   "execution_count": null,
   "id": "e8cf1bce-811e-4fd6-8474-1d9ced2f3b10",
   "metadata": {},
   "outputs": [],
   "source": []
  }
 ],
 "metadata": {
  "kernelspec": {
   "display_name": "Python [conda env:base] *",
   "language": "python",
   "name": "conda-base-py"
  },
  "language_info": {
   "codemirror_mode": {
    "name": "ipython",
    "version": 3
   },
   "file_extension": ".py",
   "mimetype": "text/x-python",
   "name": "python",
   "nbconvert_exporter": "python",
   "pygments_lexer": "ipython3",
   "version": "3.12.7"
  }
 },
 "nbformat": 4,
 "nbformat_minor": 5
}
