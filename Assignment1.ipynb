{
 "cells": [
  {
   "cell_type": "code",
   "execution_count": null,
   "id": "3e31170b-43e7-4507-8979-d549be788dda",
   "metadata": {},
   "outputs": [],
   "source": [
    "name = \"Richu Mariyam Alex\" \n",
    "student_number = \"ST1001\"  \n",
    "email = \"richu@example.com\"  \n",
    "\n",
    "print(name)\n",
    "print(student_number)\n",
    "print(email)\n"
   ]
  },
  {
   "cell_type": "code",
   "execution_count": 9,
   "id": "4d29cbf3-a6e0-4e70-bfc3-6528d088bb8d",
   "metadata": {},
   "outputs": [
    {
     "name": "stdout",
     "output_type": "stream",
     "text": [
      "Richu Mariyam Alex\n",
      "ST1001\n",
      "richu@example.com\n"
     ]
    }
   ],
   "source": [
    "name = \"Richu Mariyam Alex\"  \n",
    "student_number = \"ST1001\"  \n",
    "email = \"richu@example.com\"  \n",
    "\n",
    "print(name + \"\\n\" + student_number + \"\\n\" + email)\n"
   ]
  },
  {
   "cell_type": "code",
   "execution_count": 11,
   "id": "e513b727-4561-4335-b9bd-2eb2ac137ed0",
   "metadata": {},
   "outputs": [
    {
     "name": "stdout",
     "output_type": "stream",
     "text": [
      "14 + 7 = 21\n",
      "14 * 7 = 98\n",
      "14 - 7 = 7\n",
      "14 / 7 = 2.0\n"
     ]
    }
   ],
   "source": [
    "\n",
    "a = 14\n",
    "b = 7\n",
    "\n",
    "print(f\"{a} + {b} = {a + b}\")\n",
    "print(f\"{a} * {b} = {a * b}\")\n",
    "print(f\"{a} - {b} = {a - b}\")\n",
    "print(f\"{a} / {b} = {a / b}\")\n"
   ]
  },
  {
   "cell_type": "code",
   "execution_count": 13,
   "id": "82e7cb64-4e82-494e-b1af-1005c2a9ba55",
   "metadata": {},
   "outputs": [
    {
     "name": "stdout",
     "output_type": "stream",
     "text": [
      "1\n",
      "2\n",
      "3\n",
      "4\n",
      "5\n"
     ]
    }
   ],
   "source": [
    "# Display numbers from 1 to 5\n",
    "for i in range(1, 6):\n",
    "    print(i)\n"
   ]
  },
  {
   "cell_type": "code",
   "execution_count": 15,
   "id": "222818ec-ae99-4965-b7e6-252be4a26b5c",
   "metadata": {},
   "outputs": [
    {
     "name": "stdout",
     "output_type": "stream",
     "text": [
      "\"SDK\" stands for \"Software Development Kit\", whereas\n",
      "\"IDE\" stands for \"Integrated Development Environment\".\n"
     ]
    }
   ],
   "source": [
    "# Print the required sentence with quotation marks and line break\n",
    "print(\"\\\"SDK\\\" stands for \\\"Software Development Kit\\\", whereas\\n\\\"IDE\\\" stands for \\\"Integrated Development Environment\\\".\")\n"
   ]
  },
  {
   "cell_type": "code",
   "execution_count": 19,
   "id": "37ca0b5f-a304-4eba-95b6-293fc42d6c3f",
   "metadata": {},
   "outputs": [
    {
     "name": "stdout",
     "output_type": "stream",
     "text": [
      "python is an \"awesome\" language.\n",
      "python\n",
      "\t2023\n",
      "I'm from Entri\n",
      "5\n",
      "e\n",
      "Entri\n",
      "2023\n",
      "Entr2023\n",
      "Entri*20"
     ]
    }
   ],
   "source": [
    "# Practice printing with escape sequences\n",
    "print(\"python is an \\\"awesome\\\" language.\")\n",
    "print(\"python\\n\\t2023\")\n",
    "print('I\\'m from Entri.\\b')\n",
    "print(\"\\65\")\n",
    "print(\"\\x65\")\n",
    "print(\"Entri\", \"2023\", sep=\"\\n\")\n",
    "print(\"Entri\", \"2023\", sep=\"\\b\")\n",
    "print(\"Entri\", \"2023\", sep=\"*\", end=\"\\b\\b\\b\\b\")"
   ]
  },
  {
   "cell_type": "code",
   "execution_count": 21,
   "id": "9ba562e0-1e9f-4e7b-98d4-9cfdeaf1cad4",
   "metadata": {},
   "outputs": [
    {
     "name": "stdout",
     "output_type": "stream",
     "text": [
      "Type of num: <class 'int'>\n",
      "Type of textnum: <class 'str'>\n",
      "Type of decimal: <class 'float'>\n",
      "Sum of variables: 178.3\n",
      "Type of sum: <class 'float'>\n"
     ]
    }
   ],
   "source": [
    "# Define variables and print their types\n",
    "num = 23\n",
    "textnum = \"57\"\n",
    "decimal = 98.3\n",
    "\n",
    "print(\"Type of num:\", type(num))\n",
    "print(\"Type of textnum:\", type(textnum))\n",
    "print(\"Type of decimal:\", type(decimal))\n",
    "\n",
    "# Convert textnum to integer and calculate sum\n",
    "total_sum = num + int(textnum) + decimal\n",
    "print(\"Sum of variables:\", total_sum)\n",
    "print(\"Type of sum:\", type(total_sum))"
   ]
  },
  {
   "cell_type": "code",
   "execution_count": 23,
   "id": "6cb5d264-79b1-4c97-af4b-9f4e33eeee19",
   "metadata": {},
   "outputs": [
    {
     "name": "stdout",
     "output_type": "stream",
     "text": [
      "The total number of minutes in a year is: 525600\n"
     ]
    }
   ],
   "source": [
    "# Calculate the number of minutes in a year\n",
    "days_in_year = 365\n",
    "hours_in_day = 24\n",
    "minutes_in_hour = 60\n",
    "\n",
    "total_minutes = days_in_year * hours_in_day * minutes_in_hour\n",
    "\n",
    "print(\"The total number of minutes in a year is:\", total_minutes)\n"
   ]
  },
  {
   "cell_type": "code",
   "execution_count": 25,
   "id": "0eac125f-10cd-439b-8d4d-47390664f3e1",
   "metadata": {},
   "outputs": [
    {
     "name": "stdin",
     "output_type": "stream",
     "text": [
      "Please enter your name:  Richu\n"
     ]
    },
    {
     "name": "stdout",
     "output_type": "stream",
     "text": [
      "Hi Richu, welcome to Python programming :)\n"
     ]
    }
   ],
   "source": [
    "# Ask user for their name and print a greeting\n",
    "user_name = input(\"Please enter your name: \")\n",
    "print(f\"Hi {user_name}, welcome to Python programming :)\")"
   ]
  },
  {
   "cell_type": "code",
   "execution_count": 27,
   "id": "ca757de3-a1e2-4ccb-ad81-d544a2498c71",
   "metadata": {},
   "outputs": [
    {
     "name": "stdin",
     "output_type": "stream",
     "text": [
      "Please enter amount in pounds:  30\n"
     ]
    },
    {
     "name": "stdout",
     "output_type": "stream",
     "text": [
      "£30.0 are $40.80\n"
     ]
    }
   ],
   "source": [
    "# Convert Pounds to Dollars\n",
    "pounds = float(input(\"Please enter amount in pounds: \"))\n",
    "dollar_conversion_rate = 1.36  # Example conversion rate, adjust as needed\n",
    "dollars = pounds * dollar_conversion_rate\n",
    "print(f\"£{pounds} are ${dollars:.2f}\")\n"
   ]
  },
  {
   "cell_type": "code",
   "execution_count": null,
   "id": "bd21942f-f778-4732-b8bc-67386b3ca245",
   "metadata": {},
   "outputs": [],
   "source": []
  }
 ],
 "metadata": {
  "kernelspec": {
   "display_name": "Python [conda env:base] *",
   "language": "python",
   "name": "conda-base-py"
  },
  "language_info": {
   "codemirror_mode": {
    "name": "ipython",
    "version": 3
   },
   "file_extension": ".py",
   "mimetype": "text/x-python",
   "name": "python",
   "nbconvert_exporter": "python",
   "pygments_lexer": "ipython3",
   "version": "3.12.7"
  }
 },
 "nbformat": 4,
 "nbformat_minor": 5
}
