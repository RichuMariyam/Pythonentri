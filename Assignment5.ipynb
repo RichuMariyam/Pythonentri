{
 "cells": [
  {
   "cell_type": "code",
   "execution_count": 3,
   "id": "ad23b422-7ac4-48ed-a6ae-e7584bc1b3b4",
   "metadata": {},
   "outputs": [
    {
     "name": "stdout",
     "output_type": "stream",
     "text": [
      "hello how are you?\n"
     ]
    }
   ],
   "source": [
    "# Exercise 1: Read and display file contents\n",
    "with open(\"input.txt\", \"r\") as file:\n",
    "    print(file.read())"
   ]
  },
  {
   "cell_type": "code",
   "execution_count": 5,
   "id": "f9121e4b-9a3d-4833-8f5f-46be58fd0b89",
   "metadata": {},
   "outputs": [],
   "source": [
    "# Exercise 2: Copy contents of one file to another\n",
    "with open(\"input.txt\", \"r\") as source, open(\"output.txt\", \"w\") as destination:\n",
    "    destination.write(source.read())\n"
   ]
  },
  {
   "cell_type": "code",
   "execution_count": 7,
   "id": "cca3f332-0f50-4e11-b718-5cee6f467ba4",
   "metadata": {},
   "outputs": [
    {
     "name": "stdout",
     "output_type": "stream",
     "text": [
      "Total number of words: 4\n"
     ]
    }
   ],
   "source": [
    "# Exercise 3: Count total number of words in a file\n",
    "with open(\"input.txt\", \"r\") as file:\n",
    "    content = file.read()\n",
    "    word_count = len(content.split())\n",
    "    print(\"Total number of words:\", word_count)"
   ]
  },
  {
   "cell_type": "code",
   "execution_count": 9,
   "id": "d464e80d-fdf0-49b4-888f-6dfc9c7bfdd6",
   "metadata": {},
   "outputs": [
    {
     "name": "stdin",
     "output_type": "stream",
     "text": [
      "Enter a number:  2\n"
     ]
    },
    {
     "name": "stdout",
     "output_type": "stream",
     "text": [
      "Converted integer: 2\n"
     ]
    }
   ],
   "source": [
    "# Exercise 4: Convert string to integer with exception handling\n",
    "try:\n",
    "    user_input = input(\"Enter a number: \")\n",
    "    num = int(user_input)\n",
    "    print(\"Converted integer:\", num)\n",
    "except ValueError:\n",
    "    print(\"Invalid input! Please enter a valid integer.\")"
   ]
  },
  {
   "cell_type": "code",
   "execution_count": null,
   "id": "bd0e6520-b9ea-4ec6-9f41-76ae25711393",
   "metadata": {},
   "outputs": [],
   "source": [
    "# Exercise 5: Raise exception if any integer is negative\n",
    "try:\n",
    "    numbers = list(map(int, input(\"Enter a list of integers: \").split()))\n",
    "    if any(n < 0 for n in numbers):\n",
    "        raise ValueError(\"Negative numbers are not allowed!\")\n",
    "    print(\"Valid list of integers:\", numbers)\n",
    "except ValueError as e:\n",
    "    print(\"Error:\", e)"
   ]
  },
  {
   "cell_type": "code",
   "execution_count": null,
   "id": "911e1ce4-53f9-4ded-b845-1e539bd3758b",
   "metadata": {},
   "outputs": [],
   "source": []
  }
 ],
 "metadata": {
  "kernelspec": {
   "display_name": "Python [conda env:base] *",
   "language": "python",
   "name": "conda-base-py"
  },
  "language_info": {
   "codemirror_mode": {
    "name": "ipython",
    "version": 3
   },
   "file_extension": ".py",
   "mimetype": "text/x-python",
   "name": "python",
   "nbconvert_exporter": "python",
   "pygments_lexer": "ipython3",
   "version": "3.12.7"
  }
 },
 "nbformat": 4,
 "nbformat_minor": 5
}
