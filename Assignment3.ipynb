{
 "cells": [
  {
   "cell_type": "code",
   "execution_count": null,
   "id": "8732971e-666b-4d78-b109-69e124383f95",
   "metadata": {},
   "outputs": [],
   "source": [
    "# This program reads an integer between 1 and 12 and prints the corresponding month\n",
    "\n",
    "months = [\"January\", \"February\", \"March\", \"April\", \"May\", \"June\", \"July\", \"August\", \"September\", \"October\", \"November\", \"December\"]\n",
    "\n",
    "month_number = int(input(\"Enter the month: \"))\n",
    "\n",
    "if 1 <= month_number <= 12:\n",
    "    print(f\"Month {month_number} is {months[month_number - 1]}\")\n",
    "else:\n",
    "    print(\"Invalid month number. Please enter a value between 1 and 12.\")\n"
   ]
  },
  {
   "cell_type": "code",
   "execution_count": 1,
   "id": "4674fb40-552a-4e01-955d-eb9746386ab2",
   "metadata": {},
   "outputs": [
    {
     "name": "stdin",
     "output_type": "stream",
     "text": [
      "Enter your age:  24\n"
     ]
    },
    {
     "name": "stdout",
     "output_type": "stream",
     "text": [
      "Your ticket costs £6.00\n"
     ]
    }
   ],
   "source": [
    "# Exercise 2: Cinema Ticket Pricing\n",
    "age = int(input(\"Enter your age: \"))\n",
    "full_price = 6\n",
    "if age < 16:\n",
    "    ticket_price = full_price / 2\n",
    "elif age >= 60:\n",
    "    ticket_price = full_price / 3\n",
    "else:\n",
    "    ticket_price = full_price\n",
    "print(f\"Your ticket costs £{ticket_price:.2f}\")\n"
   ]
  },
  {
   "cell_type": "code",
   "execution_count": 3,
   "id": "3e6606db-41cb-464d-be67-8cca970748d1",
   "metadata": {},
   "outputs": [
    {
     "name": "stdin",
     "output_type": "stream",
     "text": [
      "Enter your weight in (kg):  67\n",
      "Enter your height in (m):  180\n"
     ]
    },
    {
     "name": "stdout",
     "output_type": "stream",
     "text": [
      "Your BMI is: 0.00\n",
      "You are in the 'underweight' range.\n"
     ]
    }
   ],
   "source": [
    "# Exercise 3: Body Mass Index Calculation\n",
    "weight = float(input(\"Enter your weight in (kg): \"))\n",
    "height = float(input(\"Enter your height in (m): \"))\n",
    "BMI = weight / (height ** 2)\n",
    "print(f\"Your BMI is: {BMI:.2f}\")\n",
    "if BMI < 18.5:\n",
    "    print(\"You are in the 'underweight' range.\")\n",
    "elif BMI < 25:\n",
    "    print(\"You are in the 'normal' range.\")\n",
    "elif BMI < 30:\n",
    "    print(\"You are in the 'overweight' range.\")\n",
    "else:\n",
    "    print(\"You are in the 'obese' range.\")"
   ]
  },
  {
   "cell_type": "code",
   "execution_count": 5,
   "id": "6502efa2-c1b3-419d-8da2-59cfee211c13",
   "metadata": {},
   "outputs": [
    {
     "name": "stdin",
     "output_type": "stream",
     "text": [
      "Enter three numbers:  20 30 40\n"
     ]
    },
    {
     "name": "stdout",
     "output_type": "stream",
     "text": [
      "The greatest number is 40\n"
     ]
    }
   ],
   "source": [
    "# Exercise 4: Find the greatest among 3 numbers\n",
    "a, b, c = map(int, input(\"Enter three numbers: \").split())\n",
    "print(f\"The greatest number is {max(a, b, c)}\")"
   ]
  },
  {
   "cell_type": "code",
   "execution_count": 7,
   "id": "b508d48a-c9a1-4a0a-aca4-02685d082e59",
   "metadata": {},
   "outputs": [
    {
     "name": "stdin",
     "output_type": "stream",
     "text": [
      "Enter a number:  5\n"
     ]
    },
    {
     "name": "stdout",
     "output_type": "stream",
     "text": [
      "Factorial of 5 is 120\n"
     ]
    }
   ],
   "source": [
    "# Exercise 5: Find factorial using loops\n",
    "num = int(input(\"Enter a number: \"))\n",
    "factorial = 1\n",
    "for i in range(1, num + 1):\n",
    "    factorial *= i\n",
    "print(f\"Factorial of {num} is {factorial}\")"
   ]
  },
  {
   "cell_type": "code",
   "execution_count": 9,
   "id": "67179a8c-1c08-4cf8-be41-841496ce1962",
   "metadata": {},
   "outputs": [
    {
     "name": "stdin",
     "output_type": "stream",
     "text": [
      "Enter a number to reverse:  123\n"
     ]
    },
    {
     "name": "stdout",
     "output_type": "stream",
     "text": [
      "Reversed number: 321\n"
     ]
    }
   ],
   "source": [
    "# Exercise 6: Reverse a number using while loop\n",
    "num = int(input(\"Enter a number to reverse: \"))\n",
    "reversed_num = 0\n",
    "while num > 0:\n",
    "    reversed_num = reversed_num * 10 + num % 10\n",
    "    num //= 10\n",
    "print(f\"Reversed number: {reversed_num}\")"
   ]
  },
  {
   "cell_type": "code",
   "execution_count": 11,
   "id": "2b238ece-1b0c-4cc1-8025-4cd0c59ad07a",
   "metadata": {},
   "outputs": [
    {
     "name": "stdin",
     "output_type": "stream",
     "text": [
      "Enter a number to find multiples:  4\n"
     ]
    },
    {
     "name": "stdout",
     "output_type": "stream",
     "text": [
      "4 x 1 = 4\n",
      "4 x 2 = 8\n",
      "4 x 3 = 12\n",
      "4 x 4 = 16\n",
      "4 x 5 = 20\n",
      "4 x 6 = 24\n",
      "4 x 7 = 28\n",
      "4 x 8 = 32\n",
      "4 x 9 = 36\n",
      "4 x 10 = 40\n"
     ]
    }
   ],
   "source": [
    "# Exercise 7: Finding multiples of a number using loop\n",
    "num = int(input(\"Enter a number to find multiples: \"))\n",
    "for i in range(1, 11):\n",
    "    print(f\"{num} x {i} = {num * i}\")\n"
   ]
  },
  {
   "cell_type": "code",
   "execution_count": null,
   "id": "f6f0ba97-7051-4860-ac78-b97f8a567116",
   "metadata": {},
   "outputs": [],
   "source": [
    "# Exercise 8: Break loop if input is 'done'\n",
    "while True:\n",
    "    value = input(\"Enter a value: \")\n",
    "    if value.lower() == \"done\":\n",
    "        print(\"Done\")\n",
    "        break\n",
    "    print(value)"
   ]
  },
  {
   "cell_type": "code",
   "execution_count": null,
   "id": "2ba59add-2809-4846-89ff-8411d05df727",
   "metadata": {},
   "outputs": [],
   "source": [
    "# Exercise 9: FizzBuzz\n",
    "for i in range(1, 11):\n",
    "    if i % 3 == 0 and i % 5 == 0:\n",
    "        print(\"FizzBuzz\")\n",
    "    elif i % 3 == 0:\n",
    "        print(\"Fizz\")\n",
    "    elif i % 5 == 0:\n",
    "        print(\"Buzz\")\n",
    "    else:\n",
    "        print(i)\n"
   ]
  },
  {
   "cell_type": "code",
   "execution_count": null,
   "id": "ade761fd-ee6a-4f11-b064-9e5c0ba9d486",
   "metadata": {},
   "outputs": [],
   "source": [
    "# Exercise 10: Print pattern\n",
    "for i in range(5, 0, -1):\n",
    "    for j in range(i, 0, -1):\n",
    "        print(j, end=\" \")\n",
    "    print()"
   ]
  }
 ],
 "metadata": {
  "kernelspec": {
   "display_name": "Python [conda env:base] *",
   "language": "python",
   "name": "conda-base-py"
  },
  "language_info": {
   "codemirror_mode": {
    "name": "ipython",
    "version": 3
   },
   "file_extension": ".py",
   "mimetype": "text/x-python",
   "name": "python",
   "nbconvert_exporter": "python",
   "pygments_lexer": "ipython3",
   "version": "3.12.7"
  }
 },
 "nbformat": 4,
 "nbformat_minor": 5
}
